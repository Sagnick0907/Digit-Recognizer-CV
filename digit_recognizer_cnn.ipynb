{
  "nbformat": 4,
  "nbformat_minor": 5,
  "metadata": {
    "kernelspec": {
      "display_name": "Python 3",
      "language": "python",
      "name": "python3"
    },
    "language_info": {
      "codemirror_mode": {
        "name": "ipython",
        "version": 3
      },
      "file_extension": ".py",
      "mimetype": "text/x-python",
      "name": "python",
      "nbconvert_exporter": "python",
      "pygments_lexer": "ipython3",
      "version": "3.7.10"
    },
    "papermill": {
      "default_parameters": {},
      "duration": 986.118123,
      "end_time": "2021-10-22T23:50:29.552219",
      "environment_variables": {},
      "exception": null,
      "input_path": "__notebook__.ipynb",
      "output_path": "__notebook__.ipynb",
      "parameters": {},
      "start_time": "2021-10-22T23:34:03.434096",
      "version": "2.3.3"
    },
    "colab": {
      "name": "digit-recognizer-cnn.ipynb",
      "provenance": [],
      "collapsed_sections": []
    }
  },
  "cells": [
    {
      "cell_type": "code",
      "metadata": {
        "colab": {
          "base_uri": "https://localhost:8080/"
        },
        "id": "yPj5weQGWQCO",
        "outputId": "5f53ff16-14a6-4889-ce10-0efe4033ba55"
      },
      "source": [
        "#Import tensorflow and checking the versions\n",
        "import tensorflow as tf\n",
        "print(tf.__version__)"
      ],
      "id": "yPj5weQGWQCO",
      "execution_count": 1,
      "outputs": [
        {
          "output_type": "stream",
          "name": "stdout",
          "text": [
            "2.6.0\n"
          ]
        }
      ]
    },
    {
      "cell_type": "code",
      "metadata": {
        "colab": {
          "base_uri": "https://localhost:8080/"
        },
        "id": "8xzqdBvDW2Dl",
        "outputId": "ed27b70e-94c2-482f-e3db-fef784883337"
      },
      "source": [
        "#Install dependencies\n",
        "\n",
        "!pip install kaggle"
      ],
      "id": "8xzqdBvDW2Dl",
      "execution_count": 2,
      "outputs": [
        {
          "output_type": "stream",
          "name": "stdout",
          "text": [
            "Requirement already satisfied: kaggle in /usr/local/lib/python3.7/dist-packages (1.5.12)\n",
            "Requirement already satisfied: urllib3 in /usr/local/lib/python3.7/dist-packages (from kaggle) (1.24.3)\n",
            "Requirement already satisfied: python-dateutil in /usr/local/lib/python3.7/dist-packages (from kaggle) (2.8.2)\n",
            "Requirement already satisfied: requests in /usr/local/lib/python3.7/dist-packages (from kaggle) (2.23.0)\n",
            "Requirement already satisfied: certifi in /usr/local/lib/python3.7/dist-packages (from kaggle) (2021.5.30)\n",
            "Requirement already satisfied: tqdm in /usr/local/lib/python3.7/dist-packages (from kaggle) (4.62.3)\n",
            "Requirement already satisfied: six>=1.10 in /usr/local/lib/python3.7/dist-packages (from kaggle) (1.15.0)\n",
            "Requirement already satisfied: python-slugify in /usr/local/lib/python3.7/dist-packages (from kaggle) (5.0.2)\n",
            "Requirement already satisfied: text-unidecode>=1.3 in /usr/local/lib/python3.7/dist-packages (from python-slugify->kaggle) (1.3)\n",
            "Requirement already satisfied: idna<3,>=2.5 in /usr/local/lib/python3.7/dist-packages (from requests->kaggle) (2.10)\n",
            "Requirement already satisfied: chardet<4,>=3.0.2 in /usr/local/lib/python3.7/dist-packages (from requests->kaggle) (3.0.4)\n"
          ]
        }
      ]
    },
    {
      "cell_type": "code",
      "metadata": {
        "colab": {
          "base_uri": "https://localhost:8080/"
        },
        "id": "uj3xjcs4W8dA",
        "outputId": "624681ee-11fe-4c7c-d479-db20e8c4ffc7"
      },
      "source": [
        "!pwd "
      ],
      "id": "uj3xjcs4W8dA",
      "execution_count": 3,
      "outputs": [
        {
          "output_type": "stream",
          "name": "stdout",
          "text": [
            "/content\n"
          ]
        }
      ]
    },
    {
      "cell_type": "code",
      "metadata": {
        "id": "vhC8FIoxXgZz"
      },
      "source": [
        "!mkdir -p ~/.kaggle\n",
        "!cp '/kaggle.json' ~/.kaggle/\n",
        "\n",
        "#Changing permission\n",
        "!chmod 600 ~/.kaggle/kaggle.json"
      ],
      "id": "vhC8FIoxXgZz",
      "execution_count": 4,
      "outputs": []
    },
    {
      "cell_type": "code",
      "metadata": {
        "colab": {
          "base_uri": "https://localhost:8080/"
        },
        "id": "7dfyHiq4YNln",
        "outputId": "1aacdfcf-39e8-4873-ca20-fe0f33c41b5f"
      },
      "source": [
        "#Download Dataset\n",
        "!kaggle competitions download -c digit-recognizer"
      ],
      "id": "7dfyHiq4YNln",
      "execution_count": 5,
      "outputs": [
        {
          "output_type": "stream",
          "name": "stdout",
          "text": [
            "Warning: Looks like you're using an outdated API Version, please consider updating (server 1.5.12 / client 1.5.4)\n",
            "Downloading train.csv.zip to /content\n",
            " 55% 5.00M/9.16M [00:00<00:00, 6.32MB/s]\n",
            "100% 9.16M/9.16M [00:00<00:00, 11.1MB/s]\n",
            "Downloading test.csv.zip to /content\n",
            " 82% 5.00M/6.09M [00:00<00:00, 28.9MB/s]\n",
            "100% 6.09M/6.09M [00:00<00:00, 29.8MB/s]\n",
            "Downloading sample_submission.csv to /content\n",
            "  0% 0.00/235k [00:00<?, ?B/s]\n",
            "100% 235k/235k [00:00<00:00, 72.7MB/s]\n"
          ]
        }
      ]
    },
    {
      "cell_type": "code",
      "metadata": {
        "colab": {
          "base_uri": "https://localhost:8080/"
        },
        "id": "8FaVqCAvYiMm",
        "outputId": "451d3321-5950-45d8-b2ce-c985380879fa"
      },
      "source": [
        "!unzip 'train.csv.zip' \n",
        "!unzip 'test.csv.zip'"
      ],
      "id": "8FaVqCAvYiMm",
      "execution_count": 6,
      "outputs": [
        {
          "output_type": "stream",
          "name": "stdout",
          "text": [
            "Archive:  train.csv.zip\n",
            "  inflating: train.csv               \n",
            "Archive:  test.csv.zip\n",
            "  inflating: test.csv                \n"
          ]
        }
      ]
    },
    {
      "cell_type": "code",
      "metadata": {
        "id": "dgawH_fSY_pU"
      },
      "source": [
        "!rm -rf test.csv.zip\n",
        "\n",
        "!rm -rf train.csv.zip"
      ],
      "id": "dgawH_fSY_pU",
      "execution_count": 7,
      "outputs": []
    },
    {
      "cell_type": "markdown",
      "metadata": {
        "id": "vvJiqSD_ZDt2"
      },
      "source": [
        "#Importing Packages"
      ],
      "id": "vvJiqSD_ZDt2"
    },
    {
      "cell_type": "code",
      "metadata": {
        "_cell_guid": "b1076dfc-b9ad-4769-8c92-a6c4dae69d19",
        "_uuid": "8f2839f25d086af736a60e9eeb907d3b93b6e0e5",
        "execution": {
          "iopub.execute_input": "2021-10-22T23:34:10.929807Z",
          "iopub.status.busy": "2021-10-22T23:34:10.928117Z",
          "iopub.status.idle": "2021-10-22T23:34:16.768279Z",
          "shell.execute_reply": "2021-10-22T23:34:16.766801Z",
          "shell.execute_reply.started": "2021-10-22T22:46:10.240176Z"
        },
        "papermill": {
          "duration": 5.869653,
          "end_time": "2021-10-22T23:34:16.768503",
          "exception": false,
          "start_time": "2021-10-22T23:34:10.898850",
          "status": "completed"
        },
        "tags": [],
        "id": "e19666ff"
      },
      "source": [
        "import os\n",
        "import pandas as pd\n",
        "import numpy as np\n",
        "import random\n",
        "import matplotlib.pyplot as plt\n",
        "import seaborn as sns\n",
        "plt.style.use('seaborn-bright')\n",
        "\n",
        "np.random.seed(0)\n",
        "import warnings\n",
        "warnings.filterwarnings('ignore')\n",
        "\n",
        "import tensorflow as tf\n",
        "\n",
        "from keras.models import Sequential\n",
        "from keras.layers import Dense, Flatten, Activation, Dropout, Conv2D, MaxPooling2D, BatchNormalization\n",
        "\n",
        "for dirname, _, filenames in os.walk('/kaggle/input'):\n",
        "    for filename in filenames:\n",
        "        print(os.path.join(dirname, filename))"
      ],
      "id": "e19666ff",
      "execution_count": 8,
      "outputs": []
    },
    {
      "cell_type": "markdown",
      "metadata": {
        "id": "lzMCvtgaaswh"
      },
      "source": [
        "#Reading & Reshaping the Dataset"
      ],
      "id": "lzMCvtgaaswh"
    },
    {
      "cell_type": "code",
      "metadata": {
        "execution": {
          "iopub.execute_input": "2021-10-22T23:34:16.816704Z",
          "iopub.status.busy": "2021-10-22T23:34:16.816095Z",
          "iopub.status.idle": "2021-10-22T23:34:22.033201Z",
          "shell.execute_reply": "2021-10-22T23:34:22.032677Z",
          "shell.execute_reply.started": "2021-10-22T22:46:10.253467Z"
        },
        "papermill": {
          "duration": 5.241302,
          "end_time": "2021-10-22T23:34:22.033308",
          "exception": false,
          "start_time": "2021-10-22T23:34:16.792006",
          "status": "completed"
        },
        "tags": [],
        "id": "d2e9b64a"
      },
      "source": [
        "train = pd.read_csv(\"train.csv\")\n",
        "test = pd.read_csv(\"test.csv\")"
      ],
      "id": "d2e9b64a",
      "execution_count": 9,
      "outputs": []
    },
    {
      "cell_type": "code",
      "metadata": {
        "execution": {
          "iopub.execute_input": "2021-10-22T23:34:22.068899Z",
          "iopub.status.busy": "2021-10-22T23:34:22.068259Z",
          "iopub.status.idle": "2021-10-22T23:34:22.073065Z",
          "shell.execute_reply": "2021-10-22T23:34:22.073827Z",
          "shell.execute_reply.started": "2021-10-22T22:46:14.851806Z"
        },
        "papermill": {
          "duration": 0.025653,
          "end_time": "2021-10-22T23:34:22.074017",
          "exception": false,
          "start_time": "2021-10-22T23:34:22.048364",
          "status": "completed"
        },
        "tags": [],
        "colab": {
          "base_uri": "https://localhost:8080/"
        },
        "id": "5f3b27ce",
        "outputId": "ed6f6e11-01b8-48cb-8461-7095c42a14c7"
      },
      "source": [
        "print('Train Data Shape: {}'.format(train.shape))\n",
        "print('Test Data Shape: {}'.format(test.shape))"
      ],
      "id": "5f3b27ce",
      "execution_count": 10,
      "outputs": [
        {
          "output_type": "stream",
          "name": "stdout",
          "text": [
            "Train Data Shape: (42000, 785)\n",
            "Test Data Shape: (28000, 784)\n"
          ]
        }
      ]
    },
    {
      "cell_type": "code",
      "metadata": {
        "execution": {
          "iopub.execute_input": "2021-10-22T23:34:22.122552Z",
          "iopub.status.busy": "2021-10-22T23:34:22.122056Z",
          "iopub.status.idle": "2021-10-22T23:34:22.147871Z",
          "shell.execute_reply": "2021-10-22T23:34:22.148376Z",
          "shell.execute_reply.started": "2021-10-22T22:46:14.858861Z"
        },
        "papermill": {
          "duration": 0.05154,
          "end_time": "2021-10-22T23:34:22.148517",
          "exception": false,
          "start_time": "2021-10-22T23:34:22.096977",
          "status": "completed"
        },
        "tags": [],
        "colab": {
          "base_uri": "https://localhost:8080/",
          "height": 252
        },
        "id": "76ad6b8d",
        "outputId": "38469c08-1275-4505-fda9-f67c0098c7e2"
      },
      "source": [
        "train.head()"
      ],
      "id": "76ad6b8d",
      "execution_count": 11,
      "outputs": [
        {
          "output_type": "execute_result",
          "data": {
            "text/html": [
              "<div>\n",
              "<style scoped>\n",
              "    .dataframe tbody tr th:only-of-type {\n",
              "        vertical-align: middle;\n",
              "    }\n",
              "\n",
              "    .dataframe tbody tr th {\n",
              "        vertical-align: top;\n",
              "    }\n",
              "\n",
              "    .dataframe thead th {\n",
              "        text-align: right;\n",
              "    }\n",
              "</style>\n",
              "<table border=\"1\" class=\"dataframe\">\n",
              "  <thead>\n",
              "    <tr style=\"text-align: right;\">\n",
              "      <th></th>\n",
              "      <th>label</th>\n",
              "      <th>pixel0</th>\n",
              "      <th>pixel1</th>\n",
              "      <th>pixel2</th>\n",
              "      <th>pixel3</th>\n",
              "      <th>pixel4</th>\n",
              "      <th>pixel5</th>\n",
              "      <th>pixel6</th>\n",
              "      <th>pixel7</th>\n",
              "      <th>pixel8</th>\n",
              "      <th>pixel9</th>\n",
              "      <th>pixel10</th>\n",
              "      <th>pixel11</th>\n",
              "      <th>pixel12</th>\n",
              "      <th>pixel13</th>\n",
              "      <th>pixel14</th>\n",
              "      <th>pixel15</th>\n",
              "      <th>pixel16</th>\n",
              "      <th>pixel17</th>\n",
              "      <th>pixel18</th>\n",
              "      <th>pixel19</th>\n",
              "      <th>pixel20</th>\n",
              "      <th>pixel21</th>\n",
              "      <th>pixel22</th>\n",
              "      <th>pixel23</th>\n",
              "      <th>pixel24</th>\n",
              "      <th>pixel25</th>\n",
              "      <th>pixel26</th>\n",
              "      <th>pixel27</th>\n",
              "      <th>pixel28</th>\n",
              "      <th>pixel29</th>\n",
              "      <th>pixel30</th>\n",
              "      <th>pixel31</th>\n",
              "      <th>pixel32</th>\n",
              "      <th>pixel33</th>\n",
              "      <th>pixel34</th>\n",
              "      <th>pixel35</th>\n",
              "      <th>pixel36</th>\n",
              "      <th>pixel37</th>\n",
              "      <th>pixel38</th>\n",
              "      <th>...</th>\n",
              "      <th>pixel744</th>\n",
              "      <th>pixel745</th>\n",
              "      <th>pixel746</th>\n",
              "      <th>pixel747</th>\n",
              "      <th>pixel748</th>\n",
              "      <th>pixel749</th>\n",
              "      <th>pixel750</th>\n",
              "      <th>pixel751</th>\n",
              "      <th>pixel752</th>\n",
              "      <th>pixel753</th>\n",
              "      <th>pixel754</th>\n",
              "      <th>pixel755</th>\n",
              "      <th>pixel756</th>\n",
              "      <th>pixel757</th>\n",
              "      <th>pixel758</th>\n",
              "      <th>pixel759</th>\n",
              "      <th>pixel760</th>\n",
              "      <th>pixel761</th>\n",
              "      <th>pixel762</th>\n",
              "      <th>pixel763</th>\n",
              "      <th>pixel764</th>\n",
              "      <th>pixel765</th>\n",
              "      <th>pixel766</th>\n",
              "      <th>pixel767</th>\n",
              "      <th>pixel768</th>\n",
              "      <th>pixel769</th>\n",
              "      <th>pixel770</th>\n",
              "      <th>pixel771</th>\n",
              "      <th>pixel772</th>\n",
              "      <th>pixel773</th>\n",
              "      <th>pixel774</th>\n",
              "      <th>pixel775</th>\n",
              "      <th>pixel776</th>\n",
              "      <th>pixel777</th>\n",
              "      <th>pixel778</th>\n",
              "      <th>pixel779</th>\n",
              "      <th>pixel780</th>\n",
              "      <th>pixel781</th>\n",
              "      <th>pixel782</th>\n",
              "      <th>pixel783</th>\n",
              "    </tr>\n",
              "  </thead>\n",
              "  <tbody>\n",
              "    <tr>\n",
              "      <th>0</th>\n",
              "      <td>1</td>\n",
              "      <td>0</td>\n",
              "      <td>0</td>\n",
              "      <td>0</td>\n",
              "      <td>0</td>\n",
              "      <td>0</td>\n",
              "      <td>0</td>\n",
              "      <td>0</td>\n",
              "      <td>0</td>\n",
              "      <td>0</td>\n",
              "      <td>0</td>\n",
              "      <td>0</td>\n",
              "      <td>0</td>\n",
              "      <td>0</td>\n",
              "      <td>0</td>\n",
              "      <td>0</td>\n",
              "      <td>0</td>\n",
              "      <td>0</td>\n",
              "      <td>0</td>\n",
              "      <td>0</td>\n",
              "      <td>0</td>\n",
              "      <td>0</td>\n",
              "      <td>0</td>\n",
              "      <td>0</td>\n",
              "      <td>0</td>\n",
              "      <td>0</td>\n",
              "      <td>0</td>\n",
              "      <td>0</td>\n",
              "      <td>0</td>\n",
              "      <td>0</td>\n",
              "      <td>0</td>\n",
              "      <td>0</td>\n",
              "      <td>0</td>\n",
              "      <td>0</td>\n",
              "      <td>0</td>\n",
              "      <td>0</td>\n",
              "      <td>0</td>\n",
              "      <td>0</td>\n",
              "      <td>0</td>\n",
              "      <td>0</td>\n",
              "      <td>...</td>\n",
              "      <td>0</td>\n",
              "      <td>0</td>\n",
              "      <td>0</td>\n",
              "      <td>0</td>\n",
              "      <td>0</td>\n",
              "      <td>0</td>\n",
              "      <td>0</td>\n",
              "      <td>0</td>\n",
              "      <td>0</td>\n",
              "      <td>0</td>\n",
              "      <td>0</td>\n",
              "      <td>0</td>\n",
              "      <td>0</td>\n",
              "      <td>0</td>\n",
              "      <td>0</td>\n",
              "      <td>0</td>\n",
              "      <td>0</td>\n",
              "      <td>0</td>\n",
              "      <td>0</td>\n",
              "      <td>0</td>\n",
              "      <td>0</td>\n",
              "      <td>0</td>\n",
              "      <td>0</td>\n",
              "      <td>0</td>\n",
              "      <td>0</td>\n",
              "      <td>0</td>\n",
              "      <td>0</td>\n",
              "      <td>0</td>\n",
              "      <td>0</td>\n",
              "      <td>0</td>\n",
              "      <td>0</td>\n",
              "      <td>0</td>\n",
              "      <td>0</td>\n",
              "      <td>0</td>\n",
              "      <td>0</td>\n",
              "      <td>0</td>\n",
              "      <td>0</td>\n",
              "      <td>0</td>\n",
              "      <td>0</td>\n",
              "      <td>0</td>\n",
              "    </tr>\n",
              "    <tr>\n",
              "      <th>1</th>\n",
              "      <td>0</td>\n",
              "      <td>0</td>\n",
              "      <td>0</td>\n",
              "      <td>0</td>\n",
              "      <td>0</td>\n",
              "      <td>0</td>\n",
              "      <td>0</td>\n",
              "      <td>0</td>\n",
              "      <td>0</td>\n",
              "      <td>0</td>\n",
              "      <td>0</td>\n",
              "      <td>0</td>\n",
              "      <td>0</td>\n",
              "      <td>0</td>\n",
              "      <td>0</td>\n",
              "      <td>0</td>\n",
              "      <td>0</td>\n",
              "      <td>0</td>\n",
              "      <td>0</td>\n",
              "      <td>0</td>\n",
              "      <td>0</td>\n",
              "      <td>0</td>\n",
              "      <td>0</td>\n",
              "      <td>0</td>\n",
              "      <td>0</td>\n",
              "      <td>0</td>\n",
              "      <td>0</td>\n",
              "      <td>0</td>\n",
              "      <td>0</td>\n",
              "      <td>0</td>\n",
              "      <td>0</td>\n",
              "      <td>0</td>\n",
              "      <td>0</td>\n",
              "      <td>0</td>\n",
              "      <td>0</td>\n",
              "      <td>0</td>\n",
              "      <td>0</td>\n",
              "      <td>0</td>\n",
              "      <td>0</td>\n",
              "      <td>0</td>\n",
              "      <td>...</td>\n",
              "      <td>0</td>\n",
              "      <td>0</td>\n",
              "      <td>0</td>\n",
              "      <td>0</td>\n",
              "      <td>0</td>\n",
              "      <td>0</td>\n",
              "      <td>0</td>\n",
              "      <td>0</td>\n",
              "      <td>0</td>\n",
              "      <td>0</td>\n",
              "      <td>0</td>\n",
              "      <td>0</td>\n",
              "      <td>0</td>\n",
              "      <td>0</td>\n",
              "      <td>0</td>\n",
              "      <td>0</td>\n",
              "      <td>0</td>\n",
              "      <td>0</td>\n",
              "      <td>0</td>\n",
              "      <td>0</td>\n",
              "      <td>0</td>\n",
              "      <td>0</td>\n",
              "      <td>0</td>\n",
              "      <td>0</td>\n",
              "      <td>0</td>\n",
              "      <td>0</td>\n",
              "      <td>0</td>\n",
              "      <td>0</td>\n",
              "      <td>0</td>\n",
              "      <td>0</td>\n",
              "      <td>0</td>\n",
              "      <td>0</td>\n",
              "      <td>0</td>\n",
              "      <td>0</td>\n",
              "      <td>0</td>\n",
              "      <td>0</td>\n",
              "      <td>0</td>\n",
              "      <td>0</td>\n",
              "      <td>0</td>\n",
              "      <td>0</td>\n",
              "    </tr>\n",
              "    <tr>\n",
              "      <th>2</th>\n",
              "      <td>1</td>\n",
              "      <td>0</td>\n",
              "      <td>0</td>\n",
              "      <td>0</td>\n",
              "      <td>0</td>\n",
              "      <td>0</td>\n",
              "      <td>0</td>\n",
              "      <td>0</td>\n",
              "      <td>0</td>\n",
              "      <td>0</td>\n",
              "      <td>0</td>\n",
              "      <td>0</td>\n",
              "      <td>0</td>\n",
              "      <td>0</td>\n",
              "      <td>0</td>\n",
              "      <td>0</td>\n",
              "      <td>0</td>\n",
              "      <td>0</td>\n",
              "      <td>0</td>\n",
              "      <td>0</td>\n",
              "      <td>0</td>\n",
              "      <td>0</td>\n",
              "      <td>0</td>\n",
              "      <td>0</td>\n",
              "      <td>0</td>\n",
              "      <td>0</td>\n",
              "      <td>0</td>\n",
              "      <td>0</td>\n",
              "      <td>0</td>\n",
              "      <td>0</td>\n",
              "      <td>0</td>\n",
              "      <td>0</td>\n",
              "      <td>0</td>\n",
              "      <td>0</td>\n",
              "      <td>0</td>\n",
              "      <td>0</td>\n",
              "      <td>0</td>\n",
              "      <td>0</td>\n",
              "      <td>0</td>\n",
              "      <td>0</td>\n",
              "      <td>...</td>\n",
              "      <td>0</td>\n",
              "      <td>0</td>\n",
              "      <td>0</td>\n",
              "      <td>0</td>\n",
              "      <td>0</td>\n",
              "      <td>0</td>\n",
              "      <td>0</td>\n",
              "      <td>0</td>\n",
              "      <td>0</td>\n",
              "      <td>0</td>\n",
              "      <td>0</td>\n",
              "      <td>0</td>\n",
              "      <td>0</td>\n",
              "      <td>0</td>\n",
              "      <td>0</td>\n",
              "      <td>0</td>\n",
              "      <td>0</td>\n",
              "      <td>0</td>\n",
              "      <td>0</td>\n",
              "      <td>0</td>\n",
              "      <td>0</td>\n",
              "      <td>0</td>\n",
              "      <td>0</td>\n",
              "      <td>0</td>\n",
              "      <td>0</td>\n",
              "      <td>0</td>\n",
              "      <td>0</td>\n",
              "      <td>0</td>\n",
              "      <td>0</td>\n",
              "      <td>0</td>\n",
              "      <td>0</td>\n",
              "      <td>0</td>\n",
              "      <td>0</td>\n",
              "      <td>0</td>\n",
              "      <td>0</td>\n",
              "      <td>0</td>\n",
              "      <td>0</td>\n",
              "      <td>0</td>\n",
              "      <td>0</td>\n",
              "      <td>0</td>\n",
              "    </tr>\n",
              "    <tr>\n",
              "      <th>3</th>\n",
              "      <td>4</td>\n",
              "      <td>0</td>\n",
              "      <td>0</td>\n",
              "      <td>0</td>\n",
              "      <td>0</td>\n",
              "      <td>0</td>\n",
              "      <td>0</td>\n",
              "      <td>0</td>\n",
              "      <td>0</td>\n",
              "      <td>0</td>\n",
              "      <td>0</td>\n",
              "      <td>0</td>\n",
              "      <td>0</td>\n",
              "      <td>0</td>\n",
              "      <td>0</td>\n",
              "      <td>0</td>\n",
              "      <td>0</td>\n",
              "      <td>0</td>\n",
              "      <td>0</td>\n",
              "      <td>0</td>\n",
              "      <td>0</td>\n",
              "      <td>0</td>\n",
              "      <td>0</td>\n",
              "      <td>0</td>\n",
              "      <td>0</td>\n",
              "      <td>0</td>\n",
              "      <td>0</td>\n",
              "      <td>0</td>\n",
              "      <td>0</td>\n",
              "      <td>0</td>\n",
              "      <td>0</td>\n",
              "      <td>0</td>\n",
              "      <td>0</td>\n",
              "      <td>0</td>\n",
              "      <td>0</td>\n",
              "      <td>0</td>\n",
              "      <td>0</td>\n",
              "      <td>0</td>\n",
              "      <td>0</td>\n",
              "      <td>0</td>\n",
              "      <td>...</td>\n",
              "      <td>0</td>\n",
              "      <td>0</td>\n",
              "      <td>0</td>\n",
              "      <td>0</td>\n",
              "      <td>0</td>\n",
              "      <td>0</td>\n",
              "      <td>0</td>\n",
              "      <td>0</td>\n",
              "      <td>0</td>\n",
              "      <td>0</td>\n",
              "      <td>0</td>\n",
              "      <td>0</td>\n",
              "      <td>0</td>\n",
              "      <td>0</td>\n",
              "      <td>0</td>\n",
              "      <td>0</td>\n",
              "      <td>0</td>\n",
              "      <td>0</td>\n",
              "      <td>0</td>\n",
              "      <td>0</td>\n",
              "      <td>0</td>\n",
              "      <td>0</td>\n",
              "      <td>0</td>\n",
              "      <td>0</td>\n",
              "      <td>0</td>\n",
              "      <td>0</td>\n",
              "      <td>0</td>\n",
              "      <td>0</td>\n",
              "      <td>0</td>\n",
              "      <td>0</td>\n",
              "      <td>0</td>\n",
              "      <td>0</td>\n",
              "      <td>0</td>\n",
              "      <td>0</td>\n",
              "      <td>0</td>\n",
              "      <td>0</td>\n",
              "      <td>0</td>\n",
              "      <td>0</td>\n",
              "      <td>0</td>\n",
              "      <td>0</td>\n",
              "    </tr>\n",
              "    <tr>\n",
              "      <th>4</th>\n",
              "      <td>0</td>\n",
              "      <td>0</td>\n",
              "      <td>0</td>\n",
              "      <td>0</td>\n",
              "      <td>0</td>\n",
              "      <td>0</td>\n",
              "      <td>0</td>\n",
              "      <td>0</td>\n",
              "      <td>0</td>\n",
              "      <td>0</td>\n",
              "      <td>0</td>\n",
              "      <td>0</td>\n",
              "      <td>0</td>\n",
              "      <td>0</td>\n",
              "      <td>0</td>\n",
              "      <td>0</td>\n",
              "      <td>0</td>\n",
              "      <td>0</td>\n",
              "      <td>0</td>\n",
              "      <td>0</td>\n",
              "      <td>0</td>\n",
              "      <td>0</td>\n",
              "      <td>0</td>\n",
              "      <td>0</td>\n",
              "      <td>0</td>\n",
              "      <td>0</td>\n",
              "      <td>0</td>\n",
              "      <td>0</td>\n",
              "      <td>0</td>\n",
              "      <td>0</td>\n",
              "      <td>0</td>\n",
              "      <td>0</td>\n",
              "      <td>0</td>\n",
              "      <td>0</td>\n",
              "      <td>0</td>\n",
              "      <td>0</td>\n",
              "      <td>0</td>\n",
              "      <td>0</td>\n",
              "      <td>0</td>\n",
              "      <td>0</td>\n",
              "      <td>...</td>\n",
              "      <td>0</td>\n",
              "      <td>0</td>\n",
              "      <td>0</td>\n",
              "      <td>0</td>\n",
              "      <td>0</td>\n",
              "      <td>0</td>\n",
              "      <td>0</td>\n",
              "      <td>0</td>\n",
              "      <td>0</td>\n",
              "      <td>0</td>\n",
              "      <td>0</td>\n",
              "      <td>0</td>\n",
              "      <td>0</td>\n",
              "      <td>0</td>\n",
              "      <td>0</td>\n",
              "      <td>0</td>\n",
              "      <td>0</td>\n",
              "      <td>0</td>\n",
              "      <td>0</td>\n",
              "      <td>0</td>\n",
              "      <td>0</td>\n",
              "      <td>0</td>\n",
              "      <td>0</td>\n",
              "      <td>0</td>\n",
              "      <td>0</td>\n",
              "      <td>0</td>\n",
              "      <td>0</td>\n",
              "      <td>0</td>\n",
              "      <td>0</td>\n",
              "      <td>0</td>\n",
              "      <td>0</td>\n",
              "      <td>0</td>\n",
              "      <td>0</td>\n",
              "      <td>0</td>\n",
              "      <td>0</td>\n",
              "      <td>0</td>\n",
              "      <td>0</td>\n",
              "      <td>0</td>\n",
              "      <td>0</td>\n",
              "      <td>0</td>\n",
              "    </tr>\n",
              "  </tbody>\n",
              "</table>\n",
              "<p>5 rows × 785 columns</p>\n",
              "</div>"
            ],
            "text/plain": [
              "   label  pixel0  pixel1  pixel2  ...  pixel780  pixel781  pixel782  pixel783\n",
              "0      1       0       0       0  ...         0         0         0         0\n",
              "1      0       0       0       0  ...         0         0         0         0\n",
              "2      1       0       0       0  ...         0         0         0         0\n",
              "3      4       0       0       0  ...         0         0         0         0\n",
              "4      0       0       0       0  ...         0         0         0         0\n",
              "\n",
              "[5 rows x 785 columns]"
            ]
          },
          "metadata": {},
          "execution_count": 11
        }
      ]
    },
    {
      "cell_type": "markdown",
      "metadata": {
        "papermill": {
          "duration": 0.01495,
          "end_time": "2021-10-22T23:34:22.179861",
          "exception": false,
          "start_time": "2021-10-22T23:34:22.164911",
          "status": "completed"
        },
        "tags": [],
        "id": "893c644d"
      },
      "source": [
        "#### Label Samples Distribution"
      ],
      "id": "893c644d"
    },
    {
      "cell_type": "code",
      "metadata": {
        "execution": {
          "iopub.execute_input": "2021-10-22T23:34:22.213194Z",
          "iopub.status.busy": "2021-10-22T23:34:22.212702Z",
          "iopub.status.idle": "2021-10-22T23:34:22.424815Z",
          "shell.execute_reply": "2021-10-22T23:34:22.424420Z",
          "shell.execute_reply.started": "2021-10-22T22:46:57.701616Z"
        },
        "papermill": {
          "duration": 0.229949,
          "end_time": "2021-10-22T23:34:22.424927",
          "exception": false,
          "start_time": "2021-10-22T23:34:22.194978",
          "status": "completed"
        },
        "tags": [],
        "id": "c319bfd3",
        "colab": {
          "base_uri": "https://localhost:8080/",
          "height": 296
        },
        "outputId": "6b7f92e0-e993-4bde-815c-aa2b848aee34"
      },
      "source": [
        "plt.figure(figsize=(6, 4))\n",
        "sns.countplot(train['label'])\n",
        "plt.xlabel('Label')\n",
        "plt.ylabel('Count')"
      ],
      "id": "c319bfd3",
      "execution_count": 12,
      "outputs": [
        {
          "output_type": "execute_result",
          "data": {
            "text/plain": [
              "Text(0, 0.5, 'Count')"
            ]
          },
          "metadata": {},
          "execution_count": 12
        },
        {
          "output_type": "display_data",
          "data": {
            "image/png": "[encoded data removed]",
            "text/plain": [
              "<Figure size 432x288 with 1 Axes>"
            ]
          },
          "metadata": {
            "needs_background": "light"
          }
        }
      ]
    },
    {
      "cell_type": "code",
      "metadata": {
        "execution": {
          "iopub.execute_input": "2021-10-22T23:34:22.460095Z",
          "iopub.status.busy": "2021-10-22T23:34:22.459395Z",
          "iopub.status.idle": "2021-10-22T23:34:22.569572Z",
          "shell.execute_reply": "2021-10-22T23:34:22.570157Z",
          "shell.execute_reply.started": "2021-10-22T22:48:12.473286Z"
        },
        "papermill": {
          "duration": 0.129474,
          "end_time": "2021-10-22T23:34:22.570339",
          "exception": false,
          "start_time": "2021-10-22T23:34:22.440865",
          "status": "completed"
        },
        "tags": [],
        "colab": {
          "base_uri": "https://localhost:8080/"
        },
        "id": "230a3385",
        "outputId": "521c3f6a-9d76-4093-ebd8-f0b63309c47a"
      },
      "source": [
        "Y_train = train['label'].astype('float32')\n",
        "X_train = train.drop(['label'], axis=1).astype('int32')\n",
        "X_test = test.astype('float32')\n",
        "\n",
        "print(X_train.shape, Y_train.shape, X_test.shape)"
      ],
      "id": "230a3385",
      "execution_count": 13,
      "outputs": [
        {
          "output_type": "stream",
          "name": "stdout",
          "text": [
            "(42000, 784) (42000,) (28000, 784)\n"
          ]
        }
      ]
    },
    {
      "cell_type": "markdown",
      "metadata": {
        "papermill": {
          "duration": 0.024601,
          "end_time": "2021-10-22T23:34:22.620081",
          "exception": false,
          "start_time": "2021-10-22T23:34:22.595480",
          "status": "completed"
        },
        "tags": [],
        "id": "a9a5a830"
      },
      "source": [
        "#### Reshaping the Data"
      ],
      "id": "a9a5a830"
    },
    {
      "cell_type": "code",
      "metadata": {
        "execution": {
          "iopub.execute_input": "2021-10-22T23:34:22.673473Z",
          "iopub.status.busy": "2021-10-22T23:34:22.672581Z",
          "iopub.status.idle": "2021-10-22T23:34:22.715951Z",
          "shell.execute_reply": "2021-10-22T23:34:22.716573Z",
          "shell.execute_reply.started": "2021-10-22T22:48:44.476410Z"
        },
        "papermill": {
          "duration": 0.071524,
          "end_time": "2021-10-22T23:34:22.716733",
          "exception": false,
          "start_time": "2021-10-22T23:34:22.645209",
          "status": "completed"
        },
        "tags": [],
        "colab": {
          "base_uri": "https://localhost:8080/"
        },
        "id": "7c51c17e",
        "outputId": "4ca71141-ce01-49a5-c001-84b684ac6629"
      },
      "source": [
        "X_train = X_train.values.reshape(-1, 28, 28, 1)\n",
        "X_train = X_train / 255.0\n",
        "\n",
        "X_test = X_test.values.reshape(-1, 28, 28, 1)\n",
        "X_test = X_test / 255.0\n",
        "\n",
        "print(X_train.shape, X_test.shape)"
      ],
      "id": "7c51c17e",
      "execution_count": 14,
      "outputs": [
        {
          "output_type": "stream",
          "name": "stdout",
          "text": [
            "(42000, 28, 28, 1) (28000, 28, 28, 1)\n"
          ]
        }
      ]
    },
    {
      "cell_type": "markdown",
      "metadata": {
        "papermill": {
          "duration": 0.027458,
          "end_time": "2021-10-22T23:34:24.022902",
          "exception": false,
          "start_time": "2021-10-22T23:34:23.995444",
          "status": "completed"
        },
        "tags": [],
        "id": "5798f6a1"
      },
      "source": [
        "#### One Hot Encoding Target Values"
      ],
      "id": "5798f6a1"
    },
    {
      "cell_type": "code",
      "metadata": {
        "execution": {
          "iopub.execute_input": "2021-10-22T23:34:24.078753Z",
          "iopub.status.busy": "2021-10-22T23:34:24.078134Z",
          "iopub.status.idle": "2021-10-22T23:34:24.426639Z",
          "shell.execute_reply": "2021-10-22T23:34:24.426106Z",
          "shell.execute_reply.started": "2021-10-22T22:51:56.090224Z"
        },
        "papermill": {
          "duration": 0.377251,
          "end_time": "2021-10-22T23:34:24.426749",
          "exception": false,
          "start_time": "2021-10-22T23:34:24.049498",
          "status": "completed"
        },
        "tags": [],
        "colab": {
          "base_uri": "https://localhost:8080/"
        },
        "id": "8f699084",
        "outputId": "4137fd06-71ad-4859-fa05-b6d921b0bd8c"
      },
      "source": [
        "Y_train = tf.keras.utils.to_categorical(Y_train, 10)\n",
        "Y_train.shape"
      ],
      "id": "8f699084",
      "execution_count": 15,
      "outputs": [
        {
          "output_type": "execute_result",
          "data": {
            "text/plain": [
              "(42000, 10)"
            ]
          },
          "metadata": {},
          "execution_count": 15
        }
      ]
    },
    {
      "cell_type": "markdown",
      "metadata": {
        "papermill": {
          "duration": 0.017804,
          "end_time": "2021-10-22T23:34:24.462889",
          "exception": false,
          "start_time": "2021-10-22T23:34:24.445085",
          "status": "completed"
        },
        "tags": [],
        "id": "fa859e4f"
      },
      "source": [
        "##### Here is the comparison between standard and encoded values"
      ],
      "id": "fa859e4f"
    },
    {
      "cell_type": "code",
      "metadata": {
        "execution": {
          "iopub.execute_input": "2021-10-22T23:34:24.501724Z",
          "iopub.status.busy": "2021-10-22T23:34:24.501272Z",
          "iopub.status.idle": "2021-10-22T23:34:24.505938Z",
          "shell.execute_reply": "2021-10-22T23:34:24.506413Z",
          "shell.execute_reply.started": "2021-10-22T22:53:32.522361Z"
        },
        "papermill": {
          "duration": 0.025895,
          "end_time": "2021-10-22T23:34:24.506530",
          "exception": false,
          "start_time": "2021-10-22T23:34:24.480635",
          "status": "completed"
        },
        "tags": [],
        "colab": {
          "base_uri": "https://localhost:8080/"
        },
        "id": "5f0e83ba",
        "outputId": "c896011f-6c68-459e-ccb7-aeb8d74a1c3c"
      },
      "source": [
        "train['label'].head()"
      ],
      "id": "5f0e83ba",
      "execution_count": 16,
      "outputs": [
        {
          "output_type": "execute_result",
          "data": {
            "text/plain": [
              "0    1\n",
              "1    0\n",
              "2    1\n",
              "3    4\n",
              "4    0\n",
              "Name: label, dtype: int64"
            ]
          },
          "metadata": {},
          "execution_count": 16
        }
      ]
    },
    {
      "cell_type": "code",
      "metadata": {
        "execution": {
          "iopub.execute_input": "2021-10-22T23:34:24.545347Z",
          "iopub.status.busy": "2021-10-22T23:34:24.544862Z",
          "iopub.status.idle": "2021-10-22T23:34:24.551771Z",
          "shell.execute_reply": "2021-10-22T23:34:24.551369Z",
          "shell.execute_reply.started": "2021-10-22T22:53:42.098161Z"
        },
        "papermill": {
          "duration": 0.027132,
          "end_time": "2021-10-22T23:34:24.551873",
          "exception": false,
          "start_time": "2021-10-22T23:34:24.524741",
          "status": "completed"
        },
        "tags": [],
        "colab": {
          "base_uri": "https://localhost:8080/"
        },
        "id": "b8fec15b",
        "outputId": "63be8d6c-e554-49e6-aa79-a1861e64331c"
      },
      "source": [
        "Y_train[0:5, :]"
      ],
      "id": "b8fec15b",
      "execution_count": 18,
      "outputs": [
        {
          "output_type": "execute_result",
          "data": {
            "text/plain": [
              "array([[0., 1., 0., 0., 0., 0., 0., 0., 0., 0.],\n",
              "       [1., 0., 0., 0., 0., 0., 0., 0., 0., 0.],\n",
              "       [0., 1., 0., 0., 0., 0., 0., 0., 0., 0.],\n",
              "       [0., 0., 0., 0., 1., 0., 0., 0., 0., 0.],\n",
              "       [1., 0., 0., 0., 0., 0., 0., 0., 0., 0.]], dtype=float32)"
            ]
          },
          "metadata": {},
          "execution_count": 18
        }
      ]
    },
    {
      "cell_type": "markdown",
      "metadata": {
        "papermill": {
          "duration": 0.021679,
          "end_time": "2021-10-22T23:34:24.595799",
          "exception": false,
          "start_time": "2021-10-22T23:34:24.574120",
          "status": "completed"
        },
        "tags": [],
        "id": "f6f3ff40"
      },
      "source": [
        "### Defining Modeling"
      ],
      "id": "f6f3ff40"
    },
    {
      "cell_type": "code",
      "metadata": {
        "execution": {
          "iopub.execute_input": "2021-10-22T23:34:24.650013Z",
          "iopub.status.busy": "2021-10-22T23:34:24.649369Z",
          "iopub.status.idle": "2021-10-22T23:34:24.846836Z",
          "shell.execute_reply": "2021-10-22T23:34:24.846290Z",
          "shell.execute_reply.started": "2021-10-22T22:54:07.580768Z"
        },
        "papermill": {
          "duration": 0.225939,
          "end_time": "2021-10-22T23:34:24.846962",
          "exception": false,
          "start_time": "2021-10-22T23:34:24.621023",
          "status": "completed"
        },
        "tags": [],
        "colab": {
          "base_uri": "https://localhost:8080/"
        },
        "id": "3ffc78e5",
        "outputId": "c626beed-19db-41ec-d33b-3f8f4e8f8dc2"
      },
      "source": [
        "model = tf.keras.models.Sequential([\n",
        "    Conv2D(32, (3, 3), activation='relu', input_shape=(28, 28, 1)), \n",
        "    Conv2D(32, (3, 3), activation='relu'),\n",
        "    MaxPooling2D(2, 2), \n",
        "    Conv2D(64, (3, 3), activation='relu', padding='Same'), \n",
        "    Conv2D(64, (3, 3), activation='relu', padding='Same'), \n",
        "    MaxPooling2D(pool_size=(2, 2), strides=(2, 2)), \n",
        "    Dropout(0.25), \n",
        "    Conv2D(64, (3, 3), activation='relu', padding='Same'), \n",
        "    Conv2D(64, (3, 3), activation='relu', padding='Same'), \n",
        "    MaxPooling2D(pool_size=(2, 2), strides=(2, 2)),\n",
        "    Dropout(0.25), \n",
        "    Flatten(), \n",
        "    Dense(256, activation='relu'), \n",
        "    Dense(256, activation='relu'), \n",
        "    Dropout(0.50), \n",
        "    Dense(10, activation='softmax')\n",
        "])\n",
        "model.summary()"
      ],
      "id": "3ffc78e5",
      "execution_count": 19,
      "outputs": [
        {
          "output_type": "stream",
          "name": "stdout",
          "text": [
            "Model: \"sequential\"\n",
            "_________________________________________________________________\n",
            "Layer (type)                 Output Shape              Param #   \n",
            "=================================================================\n",
            "conv2d (Conv2D)              (None, 26, 26, 32)        320       \n",
            "_________________________________________________________________\n",
            "conv2d_1 (Conv2D)            (None, 24, 24, 32)        9248      \n",
            "_________________________________________________________________\n",
            "max_pooling2d (MaxPooling2D) (None, 12, 12, 32)        0         \n",
            "_________________________________________________________________\n",
            "conv2d_2 (Conv2D)            (None, 12, 12, 64)        18496     \n",
            "_________________________________________________________________\n",
            "conv2d_3 (Conv2D)            (None, 12, 12, 64)        36928     \n",
            "_________________________________________________________________\n",
            "max_pooling2d_1 (MaxPooling2 (None, 6, 6, 64)          0         \n",
            "_________________________________________________________________\n",
            "dropout (Dropout)            (None, 6, 6, 64)          0         \n",
            "_________________________________________________________________\n",
            "conv2d_4 (Conv2D)            (None, 6, 6, 64)          36928     \n",
            "_________________________________________________________________\n",
            "conv2d_5 (Conv2D)            (None, 6, 6, 64)          36928     \n",
            "_________________________________________________________________\n",
            "max_pooling2d_2 (MaxPooling2 (None, 3, 3, 64)          0         \n",
            "_________________________________________________________________\n",
            "dropout_1 (Dropout)          (None, 3, 3, 64)          0         \n",
            "_________________________________________________________________\n",
            "flatten (Flatten)            (None, 576)               0         \n",
            "_________________________________________________________________\n",
            "dense (Dense)                (None, 256)               147712    \n",
            "_________________________________________________________________\n",
            "dense_1 (Dense)              (None, 256)               65792     \n",
            "_________________________________________________________________\n",
            "dropout_2 (Dropout)          (None, 256)               0         \n",
            "_________________________________________________________________\n",
            "dense_2 (Dense)              (None, 10)                2570      \n",
            "=================================================================\n",
            "Total params: 354,922\n",
            "Trainable params: 354,922\n",
            "Non-trainable params: 0\n",
            "_________________________________________________________________\n"
          ]
        }
      ]
    },
    {
      "cell_type": "markdown",
      "metadata": {
        "papermill": {
          "duration": 0.028672,
          "end_time": "2021-10-22T23:34:24.905375",
          "exception": false,
          "start_time": "2021-10-22T23:34:24.876703",
          "status": "completed"
        },
        "tags": [],
        "id": "57684c32"
      },
      "source": [
        "##### Callback Class to stop Fitting at an accuracy of 0.999"
      ],
      "id": "57684c32"
    },
    {
      "cell_type": "code",
      "metadata": {
        "execution": {
          "iopub.execute_input": "2021-10-22T23:34:24.968304Z",
          "iopub.status.busy": "2021-10-22T23:34:24.967801Z",
          "iopub.status.idle": "2021-10-22T23:34:24.970054Z",
          "shell.execute_reply": "2021-10-22T23:34:24.970435Z",
          "shell.execute_reply.started": "2021-10-22T22:56:39.746654Z"
        },
        "papermill": {
          "duration": 0.035985,
          "end_time": "2021-10-22T23:34:24.970575",
          "exception": false,
          "start_time": "2021-10-22T23:34:24.934590",
          "status": "completed"
        },
        "tags": [],
        "id": "e8415f3d"
      },
      "source": [
        "class myCallback(tf.keras.callbacks.Callback):\n",
        "    def end_if(self, epoch, logs={}):\n",
        "        if (logs.get('accuracy') > 0.999):\n",
        "            print('Reached 0.999 accuracy so cancelling Training')\n",
        "            self.model.stop_training = True\n",
        "            \n",
        "callbacks = myCallback()"
      ],
      "id": "e8415f3d",
      "execution_count": 20,
      "outputs": []
    },
    {
      "cell_type": "markdown",
      "metadata": {
        "papermill": {
          "duration": 0.018795,
          "end_time": "2021-10-22T23:34:25.008798",
          "exception": false,
          "start_time": "2021-10-22T23:34:24.990003",
          "status": "completed"
        },
        "tags": [],
        "id": "45431597"
      },
      "source": [
        "#### Fitting the model"
      ],
      "id": "45431597"
    },
    {
      "cell_type": "code",
      "metadata": {
        "execution": {
          "iopub.execute_input": "2021-10-22T23:34:25.055737Z",
          "iopub.status.busy": "2021-10-22T23:34:25.055238Z",
          "iopub.status.idle": "2021-10-22T23:49:55.408685Z",
          "shell.execute_reply": "2021-10-22T23:49:55.408082Z",
          "shell.execute_reply.started": "2021-10-22T22:56:52.032821Z"
        },
        "papermill": {
          "duration": 930.380898,
          "end_time": "2021-10-22T23:49:55.408842",
          "exception": false,
          "start_time": "2021-10-22T23:34:25.027944",
          "status": "completed"
        },
        "tags": [],
        "id": "7b8970d6",
        "colab": {
          "base_uri": "https://localhost:8080/"
        },
        "outputId": "acd37dbc-276b-4fe1-f467-bb2232233aae"
      },
      "source": [
        "Optimizer = tf.keras.optimizers.Adam(\n",
        "                    learning_rate=0.0005, \n",
        "                    beta_1=0.9, \n",
        "                    beta_2=0.999, \n",
        "                    epsilon=1e-07, \n",
        "                    name='Adam')\n",
        "\n",
        "model.compile(optimizer=Optimizer,\n",
        "              loss='categorical_crossentropy',\n",
        "              metrics=['accuracy'])\n",
        "\n",
        "model.fit(X_train, Y_train, batch_size=50, epochs=20, callbacks=[callbacks])"
      ],
      "id": "7b8970d6",
      "execution_count": 21,
      "outputs": [
        {
          "output_type": "stream",
          "name": "stdout",
          "text": [
            "Epoch 1/20\n",
            "  4/840 [..............................] - ETA: 15s - loss: 2.2983 - accuracy: 0.1200    WARNING:tensorflow:Callback method `on_train_batch_end` is slow compared to the batch time (batch time: 0.0068s vs `on_train_batch_end` time: 0.0104s). Check your callbacks.\n",
            "840/840 [==============================] - 43s 16ms/step - loss: 0.3287 - accuracy: 0.8910\n",
            "Epoch 2/20\n",
            "840/840 [==============================] - 12s 14ms/step - loss: 0.0840 - accuracy: 0.9758\n",
            "Epoch 3/20\n",
            "840/840 [==============================] - 12s 14ms/step - loss: 0.0589 - accuracy: 0.9824\n",
            "Epoch 4/20\n",
            "840/840 [==============================] - 12s 14ms/step - loss: 0.0478 - accuracy: 0.9857\n",
            "Epoch 5/20\n",
            "840/840 [==============================] - 12s 14ms/step - loss: 0.0412 - accuracy: 0.9881\n",
            "Epoch 6/20\n",
            "840/840 [==============================] - 12s 14ms/step - loss: 0.0359 - accuracy: 0.9893\n",
            "Epoch 7/20\n",
            "840/840 [==============================] - 11s 13ms/step - loss: 0.0311 - accuracy: 0.9905\n",
            "Epoch 8/20\n",
            "840/840 [==============================] - 11s 13ms/step - loss: 0.0280 - accuracy: 0.9920\n",
            "Epoch 9/20\n",
            "840/840 [==============================] - 11s 13ms/step - loss: 0.0250 - accuracy: 0.9923\n",
            "Epoch 10/20\n",
            "840/840 [==============================] - 11s 13ms/step - loss: 0.0236 - accuracy: 0.9929\n",
            "Epoch 11/20\n",
            "840/840 [==============================] - 11s 13ms/step - loss: 0.0202 - accuracy: 0.9938\n",
            "Epoch 12/20\n",
            "840/840 [==============================] - 11s 13ms/step - loss: 0.0197 - accuracy: 0.9941\n",
            "Epoch 13/20\n",
            "840/840 [==============================] - 11s 13ms/step - loss: 0.0184 - accuracy: 0.9943\n",
            "Epoch 14/20\n",
            "840/840 [==============================] - 11s 13ms/step - loss: 0.0173 - accuracy: 0.9945\n",
            "Epoch 15/20\n",
            "840/840 [==============================] - 11s 13ms/step - loss: 0.0146 - accuracy: 0.9958\n",
            "Epoch 16/20\n",
            "840/840 [==============================] - 11s 13ms/step - loss: 0.0171 - accuracy: 0.9948\n",
            "Epoch 17/20\n",
            "840/840 [==============================] - 11s 13ms/step - loss: 0.0149 - accuracy: 0.9955\n",
            "Epoch 18/20\n",
            "840/840 [==============================] - 11s 13ms/step - loss: 0.0137 - accuracy: 0.9959\n",
            "Epoch 19/20\n",
            "840/840 [==============================] - 11s 13ms/step - loss: 0.0131 - accuracy: 0.9959\n",
            "Epoch 20/20\n",
            "840/840 [==============================] - 11s 13ms/step - loss: 0.0122 - accuracy: 0.9962\n"
          ]
        },
        {
          "output_type": "execute_result",
          "data": {
            "text/plain": [
              "<keras.callbacks.History at 0x7f97c03a0290>"
            ]
          },
          "metadata": {},
          "execution_count": 21
        }
      ]
    },
    {
      "cell_type": "code",
      "metadata": {
        "execution": {
          "iopub.execute_input": "2021-10-22T23:50:04.214548Z",
          "iopub.status.busy": "2021-10-22T23:50:04.213793Z",
          "iopub.status.idle": "2021-10-22T23:50:15.012178Z",
          "shell.execute_reply": "2021-10-22T23:50:15.011682Z",
          "shell.execute_reply.started": "2021-10-22T23:13:35.017213Z"
        },
        "papermill": {
          "duration": 14.330712,
          "end_time": "2021-10-22T23:50:15.012310",
          "exception": false,
          "start_time": "2021-10-22T23:50:00.681598",
          "status": "completed"
        },
        "tags": [],
        "id": "d7ccb377"
      },
      "source": [
        "pred = model.predict(X_test)\n",
        "\n",
        "#select the index with the maximum probability\n",
        "pred = np.argmax(pred, axis=1)\n",
        "\n",
        "pred = pd.Series(pred, name='Label')"
      ],
      "id": "d7ccb377",
      "execution_count": 22,
      "outputs": []
    },
    {
      "cell_type": "code",
      "metadata": {
        "execution": {
          "iopub.execute_input": "2021-10-22T23:50:21.827853Z",
          "iopub.status.busy": "2021-10-22T23:50:21.824357Z",
          "iopub.status.idle": "2021-10-22T23:50:21.896557Z",
          "shell.execute_reply": "2021-10-22T23:50:21.895984Z",
          "shell.execute_reply.started": "2021-10-22T23:13:57.930572Z"
        },
        "papermill": {
          "duration": 3.498159,
          "end_time": "2021-10-22T23:50:21.896699",
          "exception": false,
          "start_time": "2021-10-22T23:50:18.398540",
          "status": "completed"
        },
        "tags": [],
        "id": "f9913afc",
        "colab": {
          "base_uri": "https://localhost:8080/",
          "height": 357
        },
        "outputId": "c46765c1-9c4b-4347-c5a9-e5f29e5a4296"
      },
      "source": [
        "submission = pd.concat([pd.Series(range(1, 28001), name='ImageID'), pred], axis=1)\n",
        "submission.to_csv('submission.csv', index=False)\n",
        "\n",
        "submission.head(10)"
      ],
      "id": "f9913afc",
      "execution_count": 23,
      "outputs": [
        {
          "output_type": "execute_result",
          "data": {
            "text/html": [
              "<div>\n",
              "<style scoped>\n",
              "    .dataframe tbody tr th:only-of-type {\n",
              "        vertical-align: middle;\n",
              "    }\n",
              "\n",
              "    .dataframe tbody tr th {\n",
              "        vertical-align: top;\n",
              "    }\n",
              "\n",
              "    .dataframe thead th {\n",
              "        text-align: right;\n",
              "    }\n",
              "</style>\n",
              "<table border=\"1\" class=\"dataframe\">\n",
              "  <thead>\n",
              "    <tr style=\"text-align: right;\">\n",
              "      <th></th>\n",
              "      <th>ImageID</th>\n",
              "      <th>Label</th>\n",
              "    </tr>\n",
              "  </thead>\n",
              "  <tbody>\n",
              "    <tr>\n",
              "      <th>0</th>\n",
              "      <td>1</td>\n",
              "      <td>2</td>\n",
              "    </tr>\n",
              "    <tr>\n",
              "      <th>1</th>\n",
              "      <td>2</td>\n",
              "      <td>0</td>\n",
              "    </tr>\n",
              "    <tr>\n",
              "      <th>2</th>\n",
              "      <td>3</td>\n",
              "      <td>9</td>\n",
              "    </tr>\n",
              "    <tr>\n",
              "      <th>3</th>\n",
              "      <td>4</td>\n",
              "      <td>0</td>\n",
              "    </tr>\n",
              "    <tr>\n",
              "      <th>4</th>\n",
              "      <td>5</td>\n",
              "      <td>3</td>\n",
              "    </tr>\n",
              "    <tr>\n",
              "      <th>5</th>\n",
              "      <td>6</td>\n",
              "      <td>7</td>\n",
              "    </tr>\n",
              "    <tr>\n",
              "      <th>6</th>\n",
              "      <td>7</td>\n",
              "      <td>0</td>\n",
              "    </tr>\n",
              "    <tr>\n",
              "      <th>7</th>\n",
              "      <td>8</td>\n",
              "      <td>3</td>\n",
              "    </tr>\n",
              "    <tr>\n",
              "      <th>8</th>\n",
              "      <td>9</td>\n",
              "      <td>0</td>\n",
              "    </tr>\n",
              "    <tr>\n",
              "      <th>9</th>\n",
              "      <td>10</td>\n",
              "      <td>3</td>\n",
              "    </tr>\n",
              "  </tbody>\n",
              "</table>\n",
              "</div>"
            ],
            "text/plain": [
              "   ImageID  Label\n",
              "0        1      2\n",
              "1        2      0\n",
              "2        3      9\n",
              "3        4      0\n",
              "4        5      3\n",
              "5        6      7\n",
              "6        7      0\n",
              "7        8      3\n",
              "8        9      0\n",
              "9       10      3"
            ]
          },
          "metadata": {},
          "execution_count": 23
        }
      ]
    },
    {
      "cell_type": "code",
      "metadata": {
        "colab": {
          "base_uri": "https://localhost:8080/"
        },
        "id": "CyvlvZXjWixm",
        "outputId": "9f52fdd0-e603-4185-b103-50f1dcd598ad"
      },
      "source": [
        "#Submission of Results\n",
        "!kaggle competitions submit -c digit-recognizer -f submission.csv -m \"Message\""
      ],
      "id": "CyvlvZXjWixm",
      "execution_count": 24,
      "outputs": [
        {
          "output_type": "stream",
          "name": "stdout",
          "text": [
            "Warning: Looks like you're using an outdated API Version, please consider updating (server 1.5.12 / client 1.5.4)\n",
            "100% 208k/208k [00:03<00:00, 62.2kB/s]\n",
            "Successfully submitted to Digit Recognizer"
          ]
        }
      ]
    }
  ]
}